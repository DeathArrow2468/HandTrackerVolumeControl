{
 "cells": [
  {
   "cell_type": "code",
   "execution_count": 1,
   "id": "74dd9f5d",
   "metadata": {
    "_cell_guid": "b1076dfc-b9ad-4769-8c92-a6c4dae69d19",
    "_uuid": "8f2839f25d086af736a60e9eeb907d3b93b6e0e5",
    "execution": {
     "iopub.execute_input": "2024-12-26T07:48:39.336314Z",
     "iopub.status.busy": "2024-12-26T07:48:39.335919Z",
     "iopub.status.idle": "2024-12-26T07:48:49.088185Z",
     "shell.execute_reply": "2024-12-26T07:48:49.086844Z"
    },
    "papermill": {
     "duration": 9.759796,
     "end_time": "2024-12-26T07:48:49.090299",
     "exception": false,
     "start_time": "2024-12-26T07:48:39.330503",
     "status": "completed"
    },
    "tags": []
   },
   "outputs": [
    {
     "name": "stdout",
     "output_type": "stream",
     "text": [
      "/kaggle/input/digit-recognizer/sample_submission.csv\n",
      "/kaggle/input/digit-recognizer/train.csv\n",
      "/kaggle/input/digit-recognizer/test.csv\n",
      "Requirement already satisfied: ipywidgets in /usr/local/lib/python3.10/dist-packages (8.1.5)\r\n",
      "Requirement already satisfied: matplotlib in /usr/local/lib/python3.10/dist-packages (3.7.1)\r\n",
      "Requirement already satisfied: comm>=0.1.3 in /usr/local/lib/python3.10/dist-packages (from ipywidgets) (0.2.2)\r\n",
      "Requirement already satisfied: ipython>=6.1.0 in /usr/local/lib/python3.10/dist-packages (from ipywidgets) (7.34.0)\r\n",
      "Requirement already satisfied: traitlets>=4.3.1 in /usr/local/lib/python3.10/dist-packages (from ipywidgets) (5.7.1)\r\n",
      "Requirement already satisfied: widgetsnbextension~=4.0.12 in /usr/local/lib/python3.10/dist-packages (from ipywidgets) (4.0.13)\r\n",
      "Requirement already satisfied: jupyterlab-widgets~=3.0.12 in /usr/local/lib/python3.10/dist-packages (from ipywidgets) (3.0.13)\r\n",
      "Requirement already satisfied: contourpy>=1.0.1 in /usr/local/lib/python3.10/dist-packages (from matplotlib) (1.3.0)\r\n",
      "Requirement already satisfied: cycler>=0.10 in /usr/local/lib/python3.10/dist-packages (from matplotlib) (0.12.1)\r\n",
      "Requirement already satisfied: fonttools>=4.22.0 in /usr/local/lib/python3.10/dist-packages (from matplotlib) (4.53.1)\r\n",
      "Requirement already satisfied: kiwisolver>=1.0.1 in /usr/local/lib/python3.10/dist-packages (from matplotlib) (1.4.7)\r\n",
      "Requirement already satisfied: numpy>=1.20 in /usr/local/lib/python3.10/dist-packages (from matplotlib) (1.26.4)\r\n",
      "Requirement already satisfied: packaging>=20.0 in /usr/local/lib/python3.10/dist-packages (from matplotlib) (24.1)\r\n",
      "Requirement already satisfied: pillow>=6.2.0 in /usr/local/lib/python3.10/dist-packages (from matplotlib) (10.4.0)\r\n",
      "Requirement already satisfied: pyparsing>=2.3.1 in /usr/local/lib/python3.10/dist-packages (from matplotlib) (3.1.4)\r\n",
      "Requirement already satisfied: python-dateutil>=2.7 in /usr/local/lib/python3.10/dist-packages (from matplotlib) (2.8.2)\r\n",
      "Requirement already satisfied: setuptools>=18.5 in /usr/local/lib/python3.10/dist-packages (from ipython>=6.1.0->ipywidgets) (71.0.4)\r\n",
      "Requirement already satisfied: jedi>=0.16 in /usr/local/lib/python3.10/dist-packages (from ipython>=6.1.0->ipywidgets) (0.19.2)\r\n",
      "Requirement already satisfied: decorator in /usr/local/lib/python3.10/dist-packages (from ipython>=6.1.0->ipywidgets) (4.4.2)\r\n",
      "Requirement already satisfied: pickleshare in /usr/local/lib/python3.10/dist-packages (from ipython>=6.1.0->ipywidgets) (0.7.5)\r\n",
      "Requirement already satisfied: prompt-toolkit!=3.0.0,!=3.0.1,<3.1.0,>=2.0.0 in /usr/local/lib/python3.10/dist-packages (from ipython>=6.1.0->ipywidgets) (3.0.47)\r\n",
      "Requirement already satisfied: pygments in /usr/local/lib/python3.10/dist-packages (from ipython>=6.1.0->ipywidgets) (2.18.0)\r\n",
      "Requirement already satisfied: backcall in /usr/local/lib/python3.10/dist-packages (from ipython>=6.1.0->ipywidgets) (0.2.0)\r\n",
      "Requirement already satisfied: matplotlib-inline in /usr/local/lib/python3.10/dist-packages (from ipython>=6.1.0->ipywidgets) (0.1.7)\r\n",
      "Requirement already satisfied: pexpect>4.3 in /usr/local/lib/python3.10/dist-packages (from ipython>=6.1.0->ipywidgets) (4.9.0)\r\n",
      "Requirement already satisfied: six>=1.5 in /usr/local/lib/python3.10/dist-packages (from python-dateutil>=2.7->matplotlib) (1.16.0)\r\n",
      "Requirement already satisfied: parso<0.9.0,>=0.8.4 in /usr/local/lib/python3.10/dist-packages (from jedi>=0.16->ipython>=6.1.0->ipywidgets) (0.8.4)\r\n",
      "Requirement already satisfied: ptyprocess>=0.5 in /usr/local/lib/python3.10/dist-packages (from pexpect>4.3->ipython>=6.1.0->ipywidgets) (0.7.0)\r\n",
      "Requirement already satisfied: wcwidth in /usr/local/lib/python3.10/dist-packages (from prompt-toolkit!=3.0.0,!=3.0.1,<3.1.0,>=2.0.0->ipython>=6.1.0->ipywidgets) (0.2.13)\r\n"
     ]
    }
   ],
   "source": [
    "# This Python 3 environment comes with many helpful analytics libraries installed\n",
    "# It is defined by the kaggle/python Docker image: https://github.com/kaggle/docker-python\n",
    "# For example, here's several helpful packages to load\n",
    "\n",
    "import numpy as np # linear algebra\n",
    "import pandas as pd # data processing, CSV file I/O (e.g. pd.read_csv)\n",
    "\n",
    "# Input data files are available in the read-only \"../input/\" directory\n",
    "# For example, running this (by clicking run or pressing Shift+Enter) will list all files under the input directory\n",
    "\n",
    "import os\n",
    "for dirname, _, filenames in os.walk('/kaggle/input'):\n",
    "    for filename in filenames:\n",
    "        print(os.path.join(dirname, filename))\n",
    "\n",
    "from matplotlib import pyplot as plt\n",
    "data = pd.read_csv('/kaggle/input/digit-recognizer/train.csv')\n",
    "\n",
    "!pip install ipywidgets matplotlib\n",
    "from matplotlib.widgets import Button\n",
    "\n",
    "# You can write up to 20GB to the current directory (/kaggle/working/) that gets preserved as output when you create a version using \"Save & Run All\" \n",
    "# You can also write temporary files to /kaggle/temp/, but they won't be saved outside of the current session"
   ]
  },
  {
   "cell_type": "code",
   "execution_count": 2,
   "id": "be21876b",
   "metadata": {
    "execution": {
     "iopub.execute_input": "2024-12-26T07:48:49.099887Z",
     "iopub.status.busy": "2024-12-26T07:48:49.099523Z",
     "iopub.status.idle": "2024-12-26T07:48:49.118063Z",
     "shell.execute_reply": "2024-12-26T07:48:49.116699Z"
    },
    "papermill": {
     "duration": 0.025292,
     "end_time": "2024-12-26T07:48:49.120029",
     "exception": false,
     "start_time": "2024-12-26T07:48:49.094737",
     "status": "completed"
    },
    "tags": []
   },
   "outputs": [
    {
     "name": "stdout",
     "output_type": "stream",
     "text": [
      "   label  pixel0  pixel1  pixel2  pixel3  pixel4  pixel5  pixel6  pixel7  \\\n",
      "0      1       0       0       0       0       0       0       0       0   \n",
      "1      0       0       0       0       0       0       0       0       0   \n",
      "2      1       0       0       0       0       0       0       0       0   \n",
      "3      4       0       0       0       0       0       0       0       0   \n",
      "4      0       0       0       0       0       0       0       0       0   \n",
      "\n",
      "   pixel8  ...  pixel774  pixel775  pixel776  pixel777  pixel778  pixel779  \\\n",
      "0       0  ...         0         0         0         0         0         0   \n",
      "1       0  ...         0         0         0         0         0         0   \n",
      "2       0  ...         0         0         0         0         0         0   \n",
      "3       0  ...         0         0         0         0         0         0   \n",
      "4       0  ...         0         0         0         0         0         0   \n",
      "\n",
      "   pixel780  pixel781  pixel782  pixel783  \n",
      "0         0         0         0         0  \n",
      "1         0         0         0         0  \n",
      "2         0         0         0         0  \n",
      "3         0         0         0         0  \n",
      "4         0         0         0         0  \n",
      "\n",
      "[5 rows x 785 columns]\n"
     ]
    }
   ],
   "source": [
    "print(data.head())"
   ]
  },
  {
   "cell_type": "code",
   "execution_count": 3,
   "id": "e401a1a8",
   "metadata": {
    "execution": {
     "iopub.execute_input": "2024-12-26T07:48:49.129205Z",
     "iopub.status.busy": "2024-12-26T07:48:49.128812Z",
     "iopub.status.idle": "2024-12-26T07:48:49.906062Z",
     "shell.execute_reply": "2024-12-26T07:48:49.904818Z"
    },
    "papermill": {
     "duration": 0.784007,
     "end_time": "2024-12-26T07:48:49.908070",
     "exception": false,
     "start_time": "2024-12-26T07:48:49.124063",
     "status": "completed"
    },
    "tags": []
   },
   "outputs": [
    {
     "name": "stdout",
     "output_type": "stream",
     "text": [
      "42000 785\n",
      "(785, 10000)\n",
      "(785, 32000)\n",
      "10000\n",
      "Y_train array:  [1 0 9 ... 5 0 6]\n"
     ]
    }
   ],
   "source": [
    "#Data Preparation\n",
    "data = np.array(data)\n",
    "np.random.shuffle(data)\n",
    "m, n = data.shape\n",
    "print(m, n)\n",
    "\n",
    "num_of_test_cases = 10000\n",
    "\n",
    "#We need dev test sets\n",
    "data_dev = data[0:num_of_test_cases].T\n",
    "print(data_dev.shape)#Every columns top is the number and all vales below it are the pixel values\n",
    "data_x_dev = data_dev[1:n]\n",
    "data_x_dev = data_x_dev/255.\n",
    "X = data_x_dev\n",
    "data_y_dev = data_dev[0]\n",
    "\n",
    "#We need test test sets\n",
    "data_test = data[num_of_test_cases : m].T\n",
    "print(data_test.shape)\n",
    "data_x_test = data_test[1: n]\n",
    "data_x_test = data_x_test/255.\n",
    "data_y_test = data_test[0]\n",
    "\n",
    "_, m_train = data_x_dev.shape\n",
    "print(m_train)\n",
    "print('Y_train array: ', data_y_dev)"
   ]
  },
  {
   "cell_type": "code",
   "execution_count": 4,
   "id": "5da40b8d",
   "metadata": {
    "execution": {
     "iopub.execute_input": "2024-12-26T07:48:49.917563Z",
     "iopub.status.busy": "2024-12-26T07:48:49.917204Z",
     "iopub.status.idle": "2024-12-26T07:48:49.923312Z",
     "shell.execute_reply": "2024-12-26T07:48:49.922231Z"
    },
    "papermill": {
     "duration": 0.012525,
     "end_time": "2024-12-26T07:48:49.924966",
     "exception": false,
     "start_time": "2024-12-26T07:48:49.912441",
     "status": "completed"
    },
    "tags": []
   },
   "outputs": [],
   "source": [
    "#What are we doing in this function? => Setting up all the Weights and biases. How do we do this? By randomly assigning values for the matrixes of W and b\n",
    "# BUT, W would have to be a list/array of arrays, same for b(set to 0). Their shapes depend on the number of neurons in that layer, the  no. of neurons in the previous layer\n",
    "# For b: number of neurons in that layer, 1.\n",
    "# So, we have to use a for loop to make the number of arrays i.e Wi, bi from the users input of the number of layers and neurons per layer.\n",
    "\n",
    "# Total no. of layers = I/p layer + Hidden layers(From user) + O/p layer\n",
    "# layers = length of it is the total number of layers and each unit tells us the number of neurons in that layer\n",
    "# layers 1st VALUE MUST BE 784!!!\n",
    "def init_parameters(layers, X):\n",
    "    W = []\n",
    "    B = []\n",
    "    for i in range(len(layers)):\n",
    "        wi = np.random.randn(layers[i], layers[i - 1] if i > 0 else X.shape[0]) * np.sqrt(2 / (layers[i-1] if i > 0 else X.shape[0]))\n",
    "        bi = np.zeros((layers[i], 1))\n",
    "        W.append(wi)\n",
    "        B.append(bi)\n",
    "    '''\n",
    "    for i in range(len(W)):\n",
    "        print(f\"W[{i}].shape = {W[i].shape}, B[{i}].shape = {B[i].shape}\")\n",
    "    '''\n",
    "    return W, B\n",
    "\n",
    "       \n",
    "        "
   ]
  },
  {
   "cell_type": "code",
   "execution_count": 5,
   "id": "ac036a41",
   "metadata": {
    "execution": {
     "iopub.execute_input": "2024-12-26T07:48:49.933933Z",
     "iopub.status.busy": "2024-12-26T07:48:49.933579Z",
     "iopub.status.idle": "2024-12-26T07:48:49.940697Z",
     "shell.execute_reply": "2024-12-26T07:48:49.939531Z"
    },
    "papermill": {
     "duration": 0.013673,
     "end_time": "2024-12-26T07:48:49.942644",
     "exception": false,
     "start_time": "2024-12-26T07:48:49.928971",
     "status": "completed"
    },
    "tags": []
   },
   "outputs": [],
   "source": [
    "def relu(Z):\n",
    "    return np.maximum(Z, 0)\n",
    "\n",
    "def leaky_relu(Z, alpha=0.01):\n",
    "    return np.where(Z > 0, Z, alpha * Z)\n",
    "\n",
    "def softmax(Z):\n",
    "    expZ = np.exp(Z - np.max(Z))\n",
    "    return expZ / np.sum(expZ, axis=0, keepdims=True)\n",
    "\n",
    "def forward_prop(W, B, layers, X):\n",
    "    Z = []\n",
    "    A = [X]\n",
    "\n",
    "    for i in range(len(layers)):\n",
    "        #print(W[i].shape)\n",
    "        z = np.dot(W[i], A[i]) + B[i]  \n",
    "        Z.append(z)\n",
    "        if i == len(layers) - 1:\n",
    "            a = softmax(z)\n",
    "        else:\n",
    "            a = leaky_relu(z)\n",
    "        A.append(a)\n",
    "    '''\n",
    "    for i in range(len(Z)):\n",
    "        print(f\"Layer {i}: Z[{i}].shape = {Z[i].shape}, A[{i}].shape = {A[i].shape}\")\n",
    "    ''' \n",
    "    return Z, A\n",
    "    \n"
   ]
  },
  {
   "cell_type": "code",
   "execution_count": 6,
   "id": "41d86e56",
   "metadata": {
    "execution": {
     "iopub.execute_input": "2024-12-26T07:48:49.952050Z",
     "iopub.status.busy": "2024-12-26T07:48:49.951697Z",
     "iopub.status.idle": "2024-12-26T07:48:49.956577Z",
     "shell.execute_reply": "2024-12-26T07:48:49.955442Z"
    },
    "papermill": {
     "duration": 0.011549,
     "end_time": "2024-12-26T07:48:49.958238",
     "exception": false,
     "start_time": "2024-12-26T07:48:49.946689",
     "status": "completed"
    },
    "tags": []
   },
   "outputs": [],
   "source": [
    "def relu_deriv(Z):\n",
    "    return Z > 0\n",
    "\n",
    "def one_hot(Y, num_classes=10):\n",
    "    m = Y.size\n",
    "    one_hot_Y = np.zeros((num_classes, m))\n",
    "    one_hot_Y[Y, np.arange(m)] = 1\n",
    "    #one_hot_Y = one_hot_Y.T\n",
    "    return one_hot_Y"
   ]
  },
  {
   "cell_type": "code",
   "execution_count": 7,
   "id": "490509b9",
   "metadata": {
    "execution": {
     "iopub.execute_input": "2024-12-26T07:48:49.967167Z",
     "iopub.status.busy": "2024-12-26T07:48:49.966755Z",
     "iopub.status.idle": "2024-12-26T07:48:49.974740Z",
     "shell.execute_reply": "2024-12-26T07:48:49.973687Z"
    },
    "papermill": {
     "duration": 0.014282,
     "end_time": "2024-12-26T07:48:49.976482",
     "exception": false,
     "start_time": "2024-12-26T07:48:49.962200",
     "status": "completed"
    },
    "tags": []
   },
   "outputs": [],
   "source": [
    "def update_parameters(W, B, alpha, layers, dW, dB):\n",
    "    for i in reversed(range(len(layers))):\n",
    "        W[i] = W[i] - (alpha * dW[i])\n",
    "        B[i] = B[i] - (alpha * dB[i])\n",
    "\n",
    "    return W, B\n",
    "    \n",
    "# m is the number of training examples\n",
    "# X is the training set's pixels values\n",
    "# Y is the training set's actual numeric values\n",
    "def backward_prop(layers, W, Z, A, X, Y, m):\n",
    "    one_hot_y = one_hot(Y, num_classes=layers[-1])\n",
    "    dZ = [None] * len(layers)\n",
    "    dW = [None] * len(layers)\n",
    "    dB = [None] * len(layers)\n",
    "    dZ[- 1] = A[- 1] - one_hot_y\n",
    "    dW[- 1] = (1/m) * (np.dot(dZ[- 1], A[- 2].T))\n",
    "    dB[-1] = (1/m) * (np.sum(dZ[-1], axis=1, keepdims=True))\n",
    "    \n",
    "    for i in range(len(layers)-2, -1, -1):\n",
    "        dZ[i] = np.dot(W[i+1].T, dZ[i+1]) * (relu_deriv(Z[i]))\n",
    "        dW[i] = (1/m) * (np.dot(dZ[i], A[i].T if i>0 else X.T))\n",
    "        dB[i] = (1/m) * (np.sum(dZ[i], axis=1, keepdims=True))\n",
    "    '''    \n",
    "    for i in range(len(dW)):\n",
    "        print(f\"dW[{i}].shape = {dW[i].shape}, dB[{i}].shape = {dB[i].shape}\")\n",
    "    '''\n",
    "        \n",
    "    return dW, dB"
   ]
  },
  {
   "cell_type": "code",
   "execution_count": 8,
   "id": "d68485b3",
   "metadata": {
    "execution": {
     "iopub.execute_input": "2024-12-26T07:48:49.985555Z",
     "iopub.status.busy": "2024-12-26T07:48:49.985179Z",
     "iopub.status.idle": "2024-12-26T07:48:49.993721Z",
     "shell.execute_reply": "2024-12-26T07:48:49.992675Z"
    },
    "papermill": {
     "duration": 0.015024,
     "end_time": "2024-12-26T07:48:49.995491",
     "exception": false,
     "start_time": "2024-12-26T07:48:49.980467",
     "status": "completed"
    },
    "tags": []
   },
   "outputs": [],
   "source": [
    "def get_predictions(A2):\n",
    "    return np.argmax(A2, 0)\n",
    "\n",
    "def get_accuracy(predictions, Y):\n",
    "    print(predictions, Y)\n",
    "    return np.sum(predictions == Y) / Y.size\n",
    "\n",
    "def gradient_descent(X, Y, alpha, iterations, layers, lambda_=0.01):\n",
    "    W, B = init_parameters(layers, X)\n",
    "    m = X.shape[1]\n",
    "\n",
    "    for i in range(iterations):\n",
    "        # Forward pass\n",
    "        Z, A = forward_prop(W, B, layers, X)\n",
    "        \n",
    "        # Compute Loss\n",
    "        one_hot_Y = one_hot(Y, num_classes=layers[-1])\n",
    "        loss = -np.sum(one_hot_Y * np.log(A[-1])) / m\n",
    "        loss += (lambda_ / (2 * m)) * sum([np.sum(np.square(wi)) for wi in W])\n",
    "        \n",
    "        # Backward pass\n",
    "        dW, dB = backward_prop(layers, W, Z, A, X, Y, m)\n",
    "        \n",
    "        # Apply L2 regularization\n",
    "        dW = [dw + (lambda_ / m) * wi for dw, wi in zip(dW, W)]\n",
    "        \n",
    "        # Parameter update\n",
    "        W, B = update_parameters(W, B, alpha, layers, dW, dB)\n",
    "        \n",
    "        # Print progress\n",
    "        if i % 100 == 0: \n",
    "            predictions = get_predictions(A[-1])\n",
    "            acc = get_accuracy(predictions, Y)\n",
    "            print(f\"Iteration {i}, Loss: {loss:.4f}, Accuracy: {acc:.4f}\")\n",
    "        elif iterations-1 == i:\n",
    "            predictions = get_predictions(A[-1])\n",
    "            acc = get_accuracy(predictions, Y)\n",
    "            print(f\"Iteration {i}, Loss: {loss:.4f}, Accuracy: {acc:.4f}\")            \n",
    "    \n",
    "    return W, B\n"
   ]
  },
  {
   "cell_type": "code",
   "execution_count": 9,
   "id": "5e576607",
   "metadata": {
    "execution": {
     "iopub.execute_input": "2024-12-26T07:48:50.004931Z",
     "iopub.status.busy": "2024-12-26T07:48:50.004549Z",
     "iopub.status.idle": "2024-12-26T08:05:25.088516Z",
     "shell.execute_reply": "2024-12-26T08:05:25.087236Z"
    },
    "papermill": {
     "duration": 995.099401,
     "end_time": "2024-12-26T08:05:25.098859",
     "exception": false,
     "start_time": "2024-12-26T07:48:49.999458",
     "status": "completed"
    },
    "tags": []
   },
   "outputs": [
    {
     "name": "stdout",
     "output_type": "stream",
     "text": [
      "[1 1 1 ... 3 1 1] [1 0 9 ... 5 0 6]\n",
      "Iteration 0, Loss: 2.4865, Accuracy: 0.1248\n",
      "[1 0 9 ... 5 0 6] [1 0 9 ... 5 0 6]\n",
      "Iteration 100, Loss: 0.3680, Accuracy: 0.9002\n",
      "[1 0 9 ... 5 0 6] [1 0 9 ... 5 0 6]\n",
      "Iteration 200, Loss: 0.2241, Accuracy: 0.9368\n",
      "[1 0 9 ... 5 0 6] [1 0 9 ... 5 0 6]\n",
      "Iteration 300, Loss: 0.1491, Accuracy: 0.9610\n",
      "[1 0 9 ... 5 0 6] [1 0 9 ... 5 0 6]\n",
      "Iteration 400, Loss: 0.1095, Accuracy: 0.9740\n",
      "[1 0 9 ... 5 0 6] [1 0 9 ... 5 0 6]\n",
      "Iteration 500, Loss: 0.0815, Accuracy: 0.9825\n",
      "[1 0 9 ... 5 0 6] [1 0 9 ... 5 0 6]\n",
      "Iteration 600, Loss: 0.0606, Accuracy: 0.9883\n",
      "[1 0 9 ... 5 0 6] [1 0 9 ... 5 0 6]\n",
      "Iteration 700, Loss: 0.0454, Accuracy: 0.9925\n",
      "[1 0 9 ... 5 0 6] [1 0 9 ... 5 0 6]\n",
      "Iteration 800, Loss: 0.0346, Accuracy: 0.9957\n",
      "[1 0 9 ... 5 0 6] [1 0 9 ... 5 0 6]\n",
      "Iteration 900, Loss: 0.0267, Accuracy: 0.9972\n",
      "[1 0 9 ... 5 0 6] [1 0 9 ... 5 0 6]\n",
      "Iteration 1000, Loss: 0.0210, Accuracy: 0.9984\n",
      "[1 0 9 ... 5 0 6] [1 0 9 ... 5 0 6]\n",
      "Iteration 1100, Loss: 0.0168, Accuracy: 0.9991\n",
      "[1 0 9 ... 5 0 6] [1 0 9 ... 5 0 6]\n",
      "Iteration 1200, Loss: 0.0137, Accuracy: 0.9994\n",
      "[1 0 9 ... 5 0 6] [1 0 9 ... 5 0 6]\n",
      "Iteration 1300, Loss: 0.0115, Accuracy: 0.9997\n",
      "[1 0 9 ... 5 0 6] [1 0 9 ... 5 0 6]\n",
      "Iteration 1400, Loss: 0.0097, Accuracy: 0.9998\n",
      "[1 0 9 ... 5 0 6] [1 0 9 ... 5 0 6]\n",
      "Iteration 1499, Loss: 0.0084, Accuracy: 0.9998\n"
     ]
    }
   ],
   "source": [
    "W, B = gradient_descent(\n",
    "    X=data_x_dev,\n",
    "    Y=data_y_dev,\n",
    "    alpha=0.07,\n",
    "    iterations=1500,\n",
    "    layers=[data_x_dev.shape[0], 64, 32, 16, 10]\n",
    ")\n"
   ]
  },
  {
   "cell_type": "code",
   "execution_count": 10,
   "id": "df416098",
   "metadata": {
    "execution": {
     "iopub.execute_input": "2024-12-26T08:05:25.118827Z",
     "iopub.status.busy": "2024-12-26T08:05:25.118315Z",
     "iopub.status.idle": "2024-12-26T08:05:25.129231Z",
     "shell.execute_reply": "2024-12-26T08:05:25.128179Z"
    },
    "papermill": {
     "duration": 0.024353,
     "end_time": "2024-12-26T08:05:25.132075",
     "exception": false,
     "start_time": "2024-12-26T08:05:25.107722",
     "status": "completed"
    },
    "tags": []
   },
   "outputs": [],
   "source": [
    "layers=[data_x_dev.shape[0], 64, 32, 16, 10]\n",
    "\n",
    "def make_predictions(X, W, B, layers):\n",
    "    _, A = forward_prop(W, B, layers, X)\n",
    "    predictions = get_predictions(A[-1])\n",
    "    return predictions\n",
    "\n",
    "def test_prediction(index, W, B):\n",
    "    current_image = X[:, index, None]\n",
    "    prediction = make_predictions(X[:, index, None], W, B, layers)\n",
    "    label = data_y_dev[index]\n",
    "    print(\"Prediction: \", prediction)\n",
    "    print(\"Label: \", label)\n",
    "    \n",
    "    current_image = current_image.reshape((28, 28)) * 255\n",
    "    plt.gray()\n",
    "    plt.imshow(current_image, interpolation='nearest')\n",
    "    plt.show()"
   ]
  },
  {
   "cell_type": "code",
   "execution_count": 11,
   "id": "ea36e209",
   "metadata": {
    "execution": {
     "iopub.execute_input": "2024-12-26T08:05:25.151372Z",
     "iopub.status.busy": "2024-12-26T08:05:25.150835Z",
     "iopub.status.idle": "2024-12-26T08:05:26.010930Z",
     "shell.execute_reply": "2024-12-26T08:05:26.009766Z"
    },
    "papermill": {
     "duration": 0.871767,
     "end_time": "2024-12-26T08:05:26.012720",
     "exception": false,
     "start_time": "2024-12-26T08:05:25.140953",
     "status": "completed"
    },
    "tags": []
   },
   "outputs": [
    {
     "name": "stdout",
     "output_type": "stream",
     "text": [
      "Prediction:  [1]\n",
      "Label:  1\n"
     ]
    },
    {
     "data": {
      "image/png": "[encoded data removed]",
      "text/plain": [
       "<Figure size 640x480 with 1 Axes>"
      ]
     },
     "metadata": {},
     "output_type": "display_data"
    },
    {
     "name": "stdout",
     "output_type": "stream",
     "text": [
      "Prediction:  [2]\n",
      "Label:  2\n"
     ]
    },
    {
     "data": {
      "image/png": "[encoded data removed]",
      "text/plain": [
       "<Figure size 640x480 with 1 Axes>"
      ]
     },
     "metadata": {},
     "output_type": "display_data"
    },
    {
     "name": "stdout",
     "output_type": "stream",
     "text": [
      "Prediction:  [9]\n",
      "Label:  9\n"
     ]
    },
    {
     "data": {
      "image/png": "[encoded data removed]",
      "text/plain": [
       "<Figure size 640x480 with 1 Axes>"
      ]
     },
     "metadata": {},
     "output_type": "display_data"
    },
    {
     "name": "stdout",
     "output_type": "stream",
     "text": [
      "Prediction:  [3]\n",
      "Label:  3\n"
     ]
    },
    {
     "data": {
      "image/png": "[encoded data removed]",
      "text/plain": [
       "<Figure size 640x480 with 1 Axes>"
      ]
     },
     "metadata": {},
     "output_type": "display_data"
    }
   ],
   "source": [
    "test_prediction(0, W, B)\n",
    "test_prediction(11, W, B)\n",
    "test_prediction(2, W, B)\n",
    "test_prediction(3, W, B)"
   ]
  },
  {
   "cell_type": "code",
   "execution_count": 12,
   "id": "48b06281",
   "metadata": {
    "execution": {
     "iopub.execute_input": "2024-12-26T08:05:26.025904Z",
     "iopub.status.busy": "2024-12-26T08:05:26.025568Z",
     "iopub.status.idle": "2024-12-26T08:05:27.113579Z",
     "shell.execute_reply": "2024-12-26T08:05:27.111192Z"
    },
    "papermill": {
     "duration": 1.096856,
     "end_time": "2024-12-26T08:05:27.115637",
     "exception": false,
     "start_time": "2024-12-26T08:05:26.018781",
     "status": "completed"
    },
    "tags": []
   },
   "outputs": [
    {
     "name": "stdout",
     "output_type": "stream",
     "text": [
      "[9 3 3 ... 7 2 7] [7 3 3 ... 7 2 7]\n"
     ]
    },
    {
     "data": {
      "text/plain": [
       "0.95084375"
      ]
     },
     "execution_count": 12,
     "metadata": {},
     "output_type": "execute_result"
    }
   ],
   "source": [
    "dev_predictions = make_predictions(data_x_test, W, B, layers)\n",
    "get_accuracy(dev_predictions, data_y_test)"
   ]
  },
  {
   "cell_type": "code",
   "execution_count": null,
   "id": "4bed1232",
   "metadata": {
    "papermill": {
     "duration": 0.01098,
     "end_time": "2024-12-26T08:05:27.139065",
     "exception": false,
     "start_time": "2024-12-26T08:05:27.128085",
     "status": "completed"
    },
    "tags": []
   },
   "outputs": [],
   "source": []
  }
 ],
 "metadata": {
  "kaggle": {
   "accelerator": "none",
   "dataSources": [
    {
     "databundleVersionId": 861823,
     "sourceId": 3004,
     "sourceType": "competition"
    }
   ],
   "dockerImageVersionId": 30822,
   "isGpuEnabled": false,
   "isInternetEnabled": true,
   "language": "python",
   "sourceType": "notebook"
  },
  "kernelspec": {
   "display_name": "Python 3",
   "language": "python",
   "name": "python3"
  },
  "language_info": {
   "codemirror_mode": {
    "name": "ipython",
    "version": 3
   },
   "file_extension": ".py",
   "mimetype": "text/x-python",
   "name": "python",
   "nbconvert_exporter": "python",
   "pygments_lexer": "ipython3",
   "version": "3.10.12"
  },
  "papermill": {
   "default_parameters": {},
   "duration": 1011.011242,
   "end_time": "2024-12-26T08:05:27.774577",
   "environment_variables": {},
   "exception": null,
   "input_path": "__notebook__.ipynb",
   "output_path": "__notebook__.ipynb",
   "parameters": {},
   "start_time": "2024-12-26T07:48:36.763335",
   "version": "2.6.0"
  }
 },
 "nbformat": 4,
 "nbformat_minor": 5
}
